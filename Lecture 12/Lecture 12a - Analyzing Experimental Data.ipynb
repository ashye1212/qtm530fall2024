{
 "cells": [
  {
   "attachments": {},
   "cell_type": "markdown",
   "metadata": {},
   "source": [
    "# <span style=\"color:darkblue\"> Lecture 12a: Analyzing Experiments </span>\n",
    "\n",
    "<font size = \"5\">\n",
    "\n"
   ]
  },
  {
   "attachments": {},
   "cell_type": "markdown",
   "metadata": {},
   "source": [
    "# <span style=\"color:darkblue\"> I. Import Libraries </span>\n"
   ]
  },
  {
   "cell_type": "code",
   "execution_count": 1,
   "metadata": {},
   "outputs": [],
   "source": [
    "# The \"pandas\" library is used for processing datasets\n",
    "# The \"numpy\" is for numeric observations and random numbers\n",
    "# The \"matplotlib.pyplot\" library is for creating graphs\n",
    "\n",
    "import pandas as pd\n",
    "import numpy as np\n",
    "import matplotlib.pyplot as plt\n",
    "\n",
    "# We will \"alias\" two sublibraries in \"statsmodels\"\n",
    "# \"statsmodels.formula.api\" contains functions to estimate models\n",
    "# \"statsmodels.api\" contains general-use statistical options\n",
    "\n",
    "import statsmodels.api as sm\n",
    "import statsmodels.formula.api as smf\n",
    "from statsmodels.iolib.summary2 import summary_col"
   ]
  },
  {
   "cell_type": "markdown",
   "metadata": {},
   "source": [
    "<font size = \"5\">\n",
    "\n",
    "Import data"
   ]
  },
  {
   "cell_type": "code",
   "execution_count": 2,
   "metadata": {},
   "outputs": [],
   "source": [
    "dataset = pd.read_stata(\"data_raw/malawiexperiment.dta\")"
   ]
  },
  {
   "cell_type": "code",
   "execution_count": 19,
   "metadata": {},
   "outputs": [
    {
     "data": {
      "text/html": [
       "<div>\n",
       "<style scoped>\n",
       "    .dataframe tbody tr th:only-of-type {\n",
       "        vertical-align: middle;\n",
       "    }\n",
       "\n",
       "    .dataframe tbody tr th {\n",
       "        vertical-align: top;\n",
       "    }\n",
       "\n",
       "    .dataframe thead th {\n",
       "        text-align: right;\n",
       "    }\n",
       "</style>\n",
       "<table border=\"1\" class=\"dataframe\">\n",
       "  <thead>\n",
       "    <tr style=\"text-align: right;\">\n",
       "      <th></th>\n",
       "      <th>hhid</th>\n",
       "      <th>refchild</th>\n",
       "      <th>envelope_number</th>\n",
       "      <th>de_date</th>\n",
       "      <th>de_start</th>\n",
       "      <th>de_end</th>\n",
       "      <th>survey_version</th>\n",
       "      <th>q5c_school_code</th>\n",
       "      <th>q6_ra_id</th>\n",
       "      <th>q12_day</th>\n",
       "      <th>...</th>\n",
       "      <th>ln50p_invest_std_reg</th>\n",
       "      <th>ln50p_invest_std_miss</th>\n",
       "      <th>ln1_invest_std_reg</th>\n",
       "      <th>ln1_invest_std_miss</th>\n",
       "      <th>ln_invest_std_reg</th>\n",
       "      <th>ln_invest_std_miss</th>\n",
       "      <th>wtp_engl_math</th>\n",
       "      <th>ln10p_wtp_engl_math</th>\n",
       "      <th>ln50p_wtp_engl_math</th>\n",
       "      <th>ln_wtp_engl_math</th>\n",
       "    </tr>\n",
       "  </thead>\n",
       "  <tbody>\n",
       "    <tr>\n",
       "      <th>0</th>\n",
       "      <td>4169</td>\n",
       "      <td>1</td>\n",
       "      <td>2</td>\n",
       "      <td>06/08/2012</td>\n",
       "      <td>16:05:01</td>\n",
       "      <td>16:20:21</td>\n",
       "      <td>74.0</td>\n",
       "      <td>4169</td>\n",
       "      <td>19.0</td>\n",
       "      <td>30</td>\n",
       "      <td>...</td>\n",
       "      <td>-100.000000</td>\n",
       "      <td>1.0</td>\n",
       "      <td>-0.500948</td>\n",
       "      <td>0.0</td>\n",
       "      <td>-100.000000</td>\n",
       "      <td>1.0</td>\n",
       "      <td>-200.0</td>\n",
       "      <td>-0.509496</td>\n",
       "      <td>-0.504247</td>\n",
       "      <td>-0.510826</td>\n",
       "    </tr>\n",
       "    <tr>\n",
       "      <th>1</th>\n",
       "      <td>4275</td>\n",
       "      <td>1</td>\n",
       "      <td>10</td>\n",
       "      <td>08/08/2012</td>\n",
       "      <td>10:54:24</td>\n",
       "      <td>11:07:18</td>\n",
       "      <td>74.0</td>\n",
       "      <td>B001</td>\n",
       "      <td>8.0</td>\n",
       "      <td>18</td>\n",
       "      <td>...</td>\n",
       "      <td>-0.070700</td>\n",
       "      <td>0.0</td>\n",
       "      <td>0.658406</td>\n",
       "      <td>0.0</td>\n",
       "      <td>-0.070733</td>\n",
       "      <td>0.0</td>\n",
       "      <td>175.0</td>\n",
       "      <td>2.045208</td>\n",
       "      <td>1.921813</td>\n",
       "      <td>2.079442</td>\n",
       "    </tr>\n",
       "    <tr>\n",
       "      <th>2</th>\n",
       "      <td>4086</td>\n",
       "      <td>1</td>\n",
       "      <td>10</td>\n",
       "      <td>08/08/2012</td>\n",
       "      <td>08:56:05</td>\n",
       "      <td>09:09:55</td>\n",
       "      <td>74.0</td>\n",
       "      <td>B001</td>\n",
       "      <td>11.0</td>\n",
       "      <td>18</td>\n",
       "      <td>...</td>\n",
       "      <td>-0.829332</td>\n",
       "      <td>0.0</td>\n",
       "      <td>0.362077</td>\n",
       "      <td>0.0</td>\n",
       "      <td>-0.829403</td>\n",
       "      <td>0.0</td>\n",
       "      <td>200.0</td>\n",
       "      <td>0.250998</td>\n",
       "      <td>0.249737</td>\n",
       "      <td>0.251315</td>\n",
       "    </tr>\n",
       "    <tr>\n",
       "      <th>3</th>\n",
       "      <td>4294</td>\n",
       "      <td>2</td>\n",
       "      <td>8</td>\n",
       "      <td>10/08/2012</td>\n",
       "      <td>13:27:16</td>\n",
       "      <td>13:45:03</td>\n",
       "      <td>74.0</td>\n",
       "      <td>B001</td>\n",
       "      <td>36.0</td>\n",
       "      <td>15</td>\n",
       "      <td>...</td>\n",
       "      <td>-100.000000</td>\n",
       "      <td>1.0</td>\n",
       "      <td>-0.012934</td>\n",
       "      <td>0.0</td>\n",
       "      <td>-100.000000</td>\n",
       "      <td>1.0</td>\n",
       "      <td>0.0</td>\n",
       "      <td>0.000000</td>\n",
       "      <td>0.000000</td>\n",
       "      <td>0.000000</td>\n",
       "    </tr>\n",
       "    <tr>\n",
       "      <th>4</th>\n",
       "      <td>14112</td>\n",
       "      <td>1</td>\n",
       "      <td>11</td>\n",
       "      <td>01/08/2012</td>\n",
       "      <td>09:36:12</td>\n",
       "      <td>09:51:37</td>\n",
       "      <td>74.0</td>\n",
       "      <td>B001</td>\n",
       "      <td>9.0</td>\n",
       "      <td>14</td>\n",
       "      <td>...</td>\n",
       "      <td>-100.000000</td>\n",
       "      <td>1.0</td>\n",
       "      <td>-100.000000</td>\n",
       "      <td>1.0</td>\n",
       "      <td>-100.000000</td>\n",
       "      <td>1.0</td>\n",
       "      <td>200.0</td>\n",
       "      <td>0.509496</td>\n",
       "      <td>0.504247</td>\n",
       "      <td>0.510826</td>\n",
       "    </tr>\n",
       "    <tr>\n",
       "      <th>...</th>\n",
       "      <td>...</td>\n",
       "      <td>...</td>\n",
       "      <td>...</td>\n",
       "      <td>...</td>\n",
       "      <td>...</td>\n",
       "      <td>...</td>\n",
       "      <td>...</td>\n",
       "      <td>...</td>\n",
       "      <td>...</td>\n",
       "      <td>...</td>\n",
       "      <td>...</td>\n",
       "      <td>...</td>\n",
       "      <td>...</td>\n",
       "      <td>...</td>\n",
       "      <td>...</td>\n",
       "      <td>...</td>\n",
       "      <td>...</td>\n",
       "      <td>...</td>\n",
       "      <td>...</td>\n",
       "      <td>...</td>\n",
       "      <td>...</td>\n",
       "    </tr>\n",
       "    <tr>\n",
       "      <th>5263</th>\n",
       "      <td>9620</td>\n",
       "      <td>2</td>\n",
       "      <td>1</td>\n",
       "      <td>10/08/2012</td>\n",
       "      <td>08:32:23</td>\n",
       "      <td>08:47:04</td>\n",
       "      <td>74.0</td>\n",
       "      <td>P002</td>\n",
       "      <td>10.0</td>\n",
       "      <td>12</td>\n",
       "      <td>...</td>\n",
       "      <td>-0.059132</td>\n",
       "      <td>0.0</td>\n",
       "      <td>0.664002</td>\n",
       "      <td>0.0</td>\n",
       "      <td>-0.059165</td>\n",
       "      <td>0.0</td>\n",
       "      <td>400.0</td>\n",
       "      <td>0.845397</td>\n",
       "      <td>0.837886</td>\n",
       "      <td>0.847298</td>\n",
       "    </tr>\n",
       "    <tr>\n",
       "      <th>5264</th>\n",
       "      <td>9628</td>\n",
       "      <td>1</td>\n",
       "      <td>2</td>\n",
       "      <td>07/08/2012</td>\n",
       "      <td>14:53:44</td>\n",
       "      <td>15:10:06</td>\n",
       "      <td>74.0</td>\n",
       "      <td>P002</td>\n",
       "      <td>60.0</td>\n",
       "      <td>14</td>\n",
       "      <td>...</td>\n",
       "      <td>-0.571806</td>\n",
       "      <td>0.0</td>\n",
       "      <td>0.447550</td>\n",
       "      <td>0.0</td>\n",
       "      <td>-0.571861</td>\n",
       "      <td>0.0</td>\n",
       "      <td>0.0</td>\n",
       "      <td>0.000000</td>\n",
       "      <td>0.000000</td>\n",
       "      <td>0.000000</td>\n",
       "    </tr>\n",
       "    <tr>\n",
       "      <th>5265</th>\n",
       "      <td>9630</td>\n",
       "      <td>1</td>\n",
       "      <td>2</td>\n",
       "      <td>07/08/2012</td>\n",
       "      <td>15:10:12</td>\n",
       "      <td>15:28:26</td>\n",
       "      <td>74.0</td>\n",
       "      <td>P002</td>\n",
       "      <td>20.0</td>\n",
       "      <td>16</td>\n",
       "      <td>...</td>\n",
       "      <td>-0.817149</td>\n",
       "      <td>0.0</td>\n",
       "      <td>0.365794</td>\n",
       "      <td>0.0</td>\n",
       "      <td>-0.817218</td>\n",
       "      <td>0.0</td>\n",
       "      <td>0.0</td>\n",
       "      <td>0.000000</td>\n",
       "      <td>0.000000</td>\n",
       "      <td>0.000000</td>\n",
       "    </tr>\n",
       "    <tr>\n",
       "      <th>5266</th>\n",
       "      <td>9616</td>\n",
       "      <td>1</td>\n",
       "      <td>1</td>\n",
       "      <td>10/08/2012</td>\n",
       "      <td>08:14:29</td>\n",
       "      <td>08:31:51</td>\n",
       "      <td>74.0</td>\n",
       "      <td>P002</td>\n",
       "      <td>63.0</td>\n",
       "      <td>12</td>\n",
       "      <td>...</td>\n",
       "      <td>0.741472</td>\n",
       "      <td>0.0</td>\n",
       "      <td>1.131077</td>\n",
       "      <td>0.0</td>\n",
       "      <td>0.741457</td>\n",
       "      <td>0.0</td>\n",
       "      <td>0.0</td>\n",
       "      <td>0.000000</td>\n",
       "      <td>0.000000</td>\n",
       "      <td>0.000000</td>\n",
       "    </tr>\n",
       "    <tr>\n",
       "      <th>5267</th>\n",
       "      <td>9621</td>\n",
       "      <td>2</td>\n",
       "      <td>1</td>\n",
       "      <td>10/08/2012</td>\n",
       "      <td>08:47:29</td>\n",
       "      <td>09:01:30</td>\n",
       "      <td>74.0</td>\n",
       "      <td>P002</td>\n",
       "      <td>10.0</td>\n",
       "      <td>12</td>\n",
       "      <td>...</td>\n",
       "      <td>-3.127740</td>\n",
       "      <td>0.0</td>\n",
       "      <td>0.042854</td>\n",
       "      <td>0.0</td>\n",
       "      <td>-3.128442</td>\n",
       "      <td>0.0</td>\n",
       "      <td>100.0</td>\n",
       "      <td>0.688184</td>\n",
       "      <td>0.669050</td>\n",
       "      <td>0.693147</td>\n",
       "    </tr>\n",
       "  </tbody>\n",
       "</table>\n",
       "<p>5268 rows × 3106 columns</p>\n",
       "</div>"
      ],
      "text/plain": [
       "       hhid  refchild  envelope_number     de_date  de_start    de_end  \\\n",
       "0      4169         1                2  06/08/2012  16:05:01  16:20:21   \n",
       "1      4275         1               10  08/08/2012  10:54:24  11:07:18   \n",
       "2      4086         1               10  08/08/2012  08:56:05  09:09:55   \n",
       "3      4294         2                8  10/08/2012  13:27:16  13:45:03   \n",
       "4     14112         1               11  01/08/2012  09:36:12  09:51:37   \n",
       "...     ...       ...              ...         ...       ...       ...   \n",
       "5263   9620         2                1  10/08/2012  08:32:23  08:47:04   \n",
       "5264   9628         1                2  07/08/2012  14:53:44  15:10:06   \n",
       "5265   9630         1                2  07/08/2012  15:10:12  15:28:26   \n",
       "5266   9616         1                1  10/08/2012  08:14:29  08:31:51   \n",
       "5267   9621         2                1  10/08/2012  08:47:29  09:01:30   \n",
       "\n",
       "     survey_version q5c_school_code q6_ra_id q12_day  ...  \\\n",
       "0              74.0            4169     19.0      30  ...   \n",
       "1              74.0            B001      8.0      18  ...   \n",
       "2              74.0            B001     11.0      18  ...   \n",
       "3              74.0            B001     36.0      15  ...   \n",
       "4              74.0            B001      9.0      14  ...   \n",
       "...             ...             ...      ...     ...  ...   \n",
       "5263           74.0            P002     10.0      12  ...   \n",
       "5264           74.0            P002     60.0      14  ...   \n",
       "5265           74.0            P002     20.0      16  ...   \n",
       "5266           74.0            P002     63.0      12  ...   \n",
       "5267           74.0            P002     10.0      12  ...   \n",
       "\n",
       "     ln50p_invest_std_reg ln50p_invest_std_miss ln1_invest_std_reg  \\\n",
       "0             -100.000000                   1.0          -0.500948   \n",
       "1               -0.070700                   0.0           0.658406   \n",
       "2               -0.829332                   0.0           0.362077   \n",
       "3             -100.000000                   1.0          -0.012934   \n",
       "4             -100.000000                   1.0        -100.000000   \n",
       "...                   ...                   ...                ...   \n",
       "5263            -0.059132                   0.0           0.664002   \n",
       "5264            -0.571806                   0.0           0.447550   \n",
       "5265            -0.817149                   0.0           0.365794   \n",
       "5266             0.741472                   0.0           1.131077   \n",
       "5267            -3.127740                   0.0           0.042854   \n",
       "\n",
       "     ln1_invest_std_miss ln_invest_std_reg ln_invest_std_miss wtp_engl_math  \\\n",
       "0                    0.0       -100.000000                1.0        -200.0   \n",
       "1                    0.0         -0.070733                0.0         175.0   \n",
       "2                    0.0         -0.829403                0.0         200.0   \n",
       "3                    0.0       -100.000000                1.0           0.0   \n",
       "4                    1.0       -100.000000                1.0         200.0   \n",
       "...                  ...               ...                ...           ...   \n",
       "5263                 0.0         -0.059165                0.0         400.0   \n",
       "5264                 0.0         -0.571861                0.0           0.0   \n",
       "5265                 0.0         -0.817218                0.0           0.0   \n",
       "5266                 0.0          0.741457                0.0           0.0   \n",
       "5267                 0.0         -3.128442                0.0         100.0   \n",
       "\n",
       "     ln10p_wtp_engl_math ln50p_wtp_engl_math ln_wtp_engl_math  \n",
       "0              -0.509496           -0.504247        -0.510826  \n",
       "1               2.045208            1.921813         2.079442  \n",
       "2               0.250998            0.249737         0.251315  \n",
       "3               0.000000            0.000000         0.000000  \n",
       "4               0.509496            0.504247         0.510826  \n",
       "...                  ...                 ...              ...  \n",
       "5263            0.845397            0.837886         0.847298  \n",
       "5264            0.000000            0.000000         0.000000  \n",
       "5265            0.000000            0.000000         0.000000  \n",
       "5266            0.000000            0.000000         0.000000  \n",
       "5267            0.688184            0.669050         0.693147  \n",
       "\n",
       "[5268 rows x 3106 columns]"
      ]
     },
     "metadata": {},
     "output_type": "display_data"
    },
    {
     "name": "stdout",
     "output_type": "stream",
     "text": [
      "               hhid     refchild  envelope_number  part3_33_c  part5_5_13_a  \\\n",
      "count   5268.000000  5268.000000      5268.000000     6.00000    436.000000   \n",
      "mean    7673.931283     1.500000         4.020881    -6.00000      2.651376   \n",
      "min        1.000000     1.000000         1.000000    -9.00000     -9.000000   \n",
      "25%     4723.000000     1.000000         2.000000    -9.00000      2.000000   \n",
      "50%     6667.500000     1.500000         3.000000    -9.00000      3.000000   \n",
      "75%     9165.000000     2.000000         5.000000    -2.25000      3.000000   \n",
      "max    18917.000000     2.000000        15.000000     0.00000     60.000000   \n",
      "std     5097.328038     0.500047         2.755794     4.64758      4.301031   \n",
      "\n",
      "       part5_5_15_a  part5_5_17_a  part5_5_13_b  part5_5_15_b  part5_5_17_b  \\\n",
      "count    450.000000    426.000000    434.000000    432.000000    422.000000   \n",
      "mean       2.453333      2.713615      2.764977      2.407407      2.810427   \n",
      "min       -9.000000     -9.000000     -9.000000     -9.000000     -9.000000   \n",
      "25%        2.000000      2.000000      2.000000      2.000000      2.000000   \n",
      "50%        3.000000      3.000000      3.000000      3.000000      3.000000   \n",
      "75%        3.000000      4.000000      3.000000      4.000000      4.000000   \n",
      "max       50.000000     35.000000     93.000000     46.000000     72.000000   \n",
      "std        4.000980      3.316646      6.416280      3.899044      5.439548   \n",
      "\n",
      "       ...  ln50p_invest_std_reg  ln50p_invest_std_miss  ln1_invest_std_reg  \\\n",
      "count  ...           5268.000000            5268.000000         5268.000000   \n",
      "mean   ...            -52.176117               0.514237           -2.647174   \n",
      "min    ...           -100.000000               0.000000         -100.000000   \n",
      "25%    ...           -100.000000               0.000000           -0.325539   \n",
      "50%    ...           -100.000000               1.000000           -0.012934   \n",
      "75%    ...             -1.156331               1.000000            0.273538   \n",
      "max    ...              0.921316               1.000000            1.256346   \n",
      "std    ...             49.218590               0.499843           15.799183   \n",
      "\n",
      "       ln1_invest_std_miss  ln_invest_std_reg  ln_invest_std_miss  \\\n",
      "count          5268.000000        5268.000000         5268.000000   \n",
      "mean              0.025626         -52.176430            0.514237   \n",
      "min               0.000000        -100.000000            0.000000   \n",
      "25%               0.000000        -100.000000            0.000000   \n",
      "50%               0.000000        -100.000000            1.000000   \n",
      "75%               0.000000          -1.156428            1.000000   \n",
      "max               1.000000           0.921303            1.000000   \n",
      "std               0.158031          49.218346            0.499843   \n",
      "\n",
      "       wtp_engl_math ln10p_wtp_engl_math  ln50p_wtp_engl_math  \\\n",
      "count    5219.000000         5219.000000          5219.000000   \n",
      "mean       46.511784            0.233888             0.205611   \n",
      "min     -1800.000000           -7.313887            -5.707110   \n",
      "25%         0.000000            0.000000             0.000000   \n",
      "50%         0.000000            0.000000             0.000000   \n",
      "75%       150.000000            0.683295             0.646627   \n",
      "max      1600.000000            7.313887             5.707110   \n",
      "std       226.104584            1.382757             1.081989   \n",
      "\n",
      "       ln_wtp_engl_math  \n",
      "count       4742.000000  \n",
      "mean           0.180660  \n",
      "min           -3.258097  \n",
      "25%            0.000000  \n",
      "50%            0.000000  \n",
      "75%            0.693147  \n",
      "max            4.248495  \n",
      "std            0.760414  \n",
      "\n",
      "[8 rows x 1964 columns]\n"
     ]
    }
   ],
   "source": [
    "display(dataset)\n",
    "print(dataset.describe())"
   ]
  },
  {
   "cell_type": "markdown",
   "metadata": {},
   "source": [
    "# <span style=\"color:darkblue\"> II. Context </span>\n"
   ]
  },
  {
   "cell_type": "markdown",
   "metadata": {},
   "source": [
    "<font size = \"5\">\n",
    "\n",
    "Today we will review a paper by Rebecca Dizon-Ross published <br>\n",
    "in the American Economic Review (2019).\n",
    "\n",
    "- In this study, researchers partnered with local schools in Malawi <br>\n",
    "- This study evaluated the impacts of information about children’s <br>\n",
    " academic performance on parents’ subsequent investments in their <br>\n",
    "  children’s education.\n",
    "\n",
    "\n",
    "https://www.povertyactionlab.org/evaluation/effects-student-performance-information-parental-decision-making-malawi?lang=fr\n",
    "\n",
    "https://www.nber.org/papers/w24610"
   ]
  },
  {
   "cell_type": "markdown",
   "metadata": {},
   "source": [
    "<font size = \"5\">\n",
    "\n",
    "Intervention\n",
    "\n",
    "- Parents in Malawi with low literacy levels had trouble interpreting <br>\n",
    "school report cards.Many parents were unaware that their children were <br>\n",
    "struggling with school.\n",
    "- The intervention altered the way that the schools engaged with <br>\n",
    " parents. It had an impact on reducing the information gaps.\n"
   ]
  },
  {
   "cell_type": "markdown",
   "metadata": {},
   "source": [
    "<font size = \"5\">\n",
    "\n",
    "Experimental Design\n",
    "\n",
    "- Students were assigned to randomly to treatment and control <br>\n",
    "with 50% probability\n",
    "- The random assignment was done at the household level"
   ]
  },
  {
   "cell_type": "markdown",
   "metadata": {},
   "source": [
    "<font size = \"5\">\n",
    "\n",
    "Findings"
   ]
  },
  {
   "cell_type": "markdown",
   "metadata": {},
   "source": [
    "\n",
    "<img src=\"figures/treatmenteffects_dizonross.png\" alt=\"drawing\" width=\"650\"/>\n",
    "\n"
   ]
  },
  {
   "cell_type": "markdown",
   "metadata": {},
   "source": [
    "<font size = \"5\">\n",
    "\n",
    "At baseline (before the intervention)\n",
    "\n",
    "- The graph on the left shows parental beliefs at baseline\n",
    "- Parents of low performing students thought that they were doing <br>\n",
    "better than they were. Ideally it should  be along the 45-degree line\n",
    "- Similar results for treated and control groups at baseline because <br>\n",
    "of randomization\n",
    "\n",
    "At endline (after the intervention)\n",
    "\n",
    "- Treated parents had more accurate perceptions of their children's <br>\n",
    "performance\n",
    "- The treatment effects varied depending on the baseline test scores\n"
   ]
  },
  {
   "cell_type": "markdown",
   "metadata": {},
   "source": [
    "# <span style=\"color:darkblue\"> II. Basic Descriptive Analysis </span>\n"
   ]
  },
  {
   "cell_type": "markdown",
   "metadata": {},
   "source": [
    "<font size = \"5\">\n",
    "\n",
    "Total number of children"
   ]
  },
  {
   "cell_type": "code",
   "execution_count": 3,
   "metadata": {},
   "outputs": [
    {
     "data": {
      "text/plain": [
       "5268"
      ]
     },
     "execution_count": 3,
     "metadata": {},
     "output_type": "execute_result"
    }
   ],
   "source": [
    "len(dataset)"
   ]
  },
  {
   "cell_type": "markdown",
   "metadata": {},
   "source": [
    "<font size = \"5\">\n",
    "\n",
    "Total number of households\n",
    "\n",
    "- 2 children per households"
   ]
  },
  {
   "cell_type": "code",
   "execution_count": 4,
   "metadata": {},
   "outputs": [
    {
     "data": {
      "text/plain": [
       "2634"
      ]
     },
     "execution_count": 4,
     "metadata": {},
     "output_type": "execute_result"
    }
   ],
   "source": [
    "unique_ids = pd.unique(dataset[\"hhid\"])\n",
    "len(unique_ids)"
   ]
  },
  {
   "cell_type": "markdown",
   "metadata": {},
   "source": [
    "<font size = \"5\">\n",
    "\n",
    "Calculate number of treated and control"
   ]
  },
  {
   "cell_type": "code",
   "execution_count": 5,
   "metadata": {},
   "outputs": [
    {
     "data": {
      "text/html": [
       "<div>\n",
       "<style scoped>\n",
       "    .dataframe tbody tr th:only-of-type {\n",
       "        vertical-align: middle;\n",
       "    }\n",
       "\n",
       "    .dataframe tbody tr th {\n",
       "        vertical-align: top;\n",
       "    }\n",
       "\n",
       "    .dataframe thead th {\n",
       "        text-align: right;\n",
       "    }\n",
       "</style>\n",
       "<table border=\"1\" class=\"dataframe\">\n",
       "  <thead>\n",
       "    <tr style=\"text-align: right;\">\n",
       "      <th>col_0</th>\n",
       "      <th>count</th>\n",
       "    </tr>\n",
       "    <tr>\n",
       "      <th>treat</th>\n",
       "      <th></th>\n",
       "    </tr>\n",
       "  </thead>\n",
       "  <tbody>\n",
       "    <tr>\n",
       "      <th>Control</th>\n",
       "      <td>2654</td>\n",
       "    </tr>\n",
       "    <tr>\n",
       "      <th>Treatment</th>\n",
       "      <td>2614</td>\n",
       "    </tr>\n",
       "  </tbody>\n",
       "</table>\n",
       "</div>"
      ],
      "text/plain": [
       "col_0      count\n",
       "treat           \n",
       "Control     2654\n",
       "Treatment   2614"
      ]
     },
     "execution_count": 5,
     "metadata": {},
     "output_type": "execute_result"
    }
   ],
   "source": [
    "table = pd.crosstab(index = dataset['treat'], columns = \"count\")\n",
    "table"
   ]
  },
  {
   "cell_type": "markdown",
   "metadata": {},
   "source": [
    "# <span style=\"color:darkblue\"> III. Testing Covariate Balance </span>\n"
   ]
  },
  {
   "cell_type": "markdown",
   "metadata": {},
   "source": [
    "<font size = \"5\">\n",
    "\n",
    "Subset treated and control observations"
   ]
  },
  {
   "cell_type": "code",
   "execution_count": 6,
   "metadata": {},
   "outputs": [],
   "source": [
    "dataset_treated = dataset.query('treat == \"Treatment\"')\n",
    "dataset_control = dataset.query('treat == \"Control\"')"
   ]
  },
  {
   "cell_type": "markdown",
   "metadata": {},
   "source": [
    "<font size = \"5\">\n",
    "\n",
    "Socio-economic information can be collected at baseline <br>\n",
    "(before the experiment) "
   ]
  },
  {
   "cell_type": "code",
   "execution_count": 7,
   "metadata": {},
   "outputs": [],
   "source": [
    "variables_scores      = [\"ave\"]\n",
    "variables_respondent  = [\"lit\",\"primary_resp_fem\",\"age_par1\",\"farmer\"]\n",
    "variables_household   = [\"tot_kids\",\"one_par\"]\n",
    "variables_student     = [\"std\",\"age\",\"female\",\"attendance_sv\"]"
   ]
  },
  {
   "cell_type": "markdown",
   "metadata": {},
   "source": [
    "<font size = \"5\" >\n",
    "\n",
    "Check that characteristics are similar between treated and control <br>\n",
    "at baseline"
   ]
  },
  {
   "cell_type": "code",
   "execution_count": 8,
   "metadata": {},
   "outputs": [
    {
     "data": {
      "text/html": [
       "<div>\n",
       "<style scoped>\n",
       "    .dataframe tbody tr th:only-of-type {\n",
       "        vertical-align: middle;\n",
       "    }\n",
       "\n",
       "    .dataframe tbody tr th {\n",
       "        vertical-align: top;\n",
       "    }\n",
       "\n",
       "    .dataframe thead th {\n",
       "        text-align: right;\n",
       "    }\n",
       "</style>\n",
       "<table border=\"1\" class=\"dataframe\">\n",
       "  <thead>\n",
       "    <tr style=\"text-align: right;\">\n",
       "      <th></th>\n",
       "      <th>lit</th>\n",
       "      <th>primary_resp_fem</th>\n",
       "      <th>age_par1</th>\n",
       "      <th>farmer</th>\n",
       "    </tr>\n",
       "  </thead>\n",
       "  <tbody>\n",
       "    <tr>\n",
       "      <th>mean</th>\n",
       "      <td>0.675613</td>\n",
       "      <td>0.758990</td>\n",
       "      <td>40.974080</td>\n",
       "      <td>0.460587</td>\n",
       "    </tr>\n",
       "    <tr>\n",
       "      <th>std</th>\n",
       "      <td>0.468235</td>\n",
       "      <td>0.427778</td>\n",
       "      <td>11.290328</td>\n",
       "      <td>0.498541</td>\n",
       "    </tr>\n",
       "  </tbody>\n",
       "</table>\n",
       "</div>"
      ],
      "text/plain": [
       "           lit  primary_resp_fem   age_par1    farmer\n",
       "mean  0.675613          0.758990  40.974080  0.460587\n",
       "std   0.468235          0.427778  11.290328  0.498541"
      ]
     },
     "metadata": {},
     "output_type": "display_data"
    },
    {
     "data": {
      "text/html": [
       "<div>\n",
       "<style scoped>\n",
       "    .dataframe tbody tr th:only-of-type {\n",
       "        vertical-align: middle;\n",
       "    }\n",
       "\n",
       "    .dataframe tbody tr th {\n",
       "        vertical-align: top;\n",
       "    }\n",
       "\n",
       "    .dataframe thead th {\n",
       "        text-align: right;\n",
       "    }\n",
       "</style>\n",
       "<table border=\"1\" class=\"dataframe\">\n",
       "  <thead>\n",
       "    <tr style=\"text-align: right;\">\n",
       "      <th></th>\n",
       "      <th>lit</th>\n",
       "      <th>primary_resp_fem</th>\n",
       "      <th>age_par1</th>\n",
       "      <th>farmer</th>\n",
       "    </tr>\n",
       "  </thead>\n",
       "  <tbody>\n",
       "    <tr>\n",
       "      <th>mean</th>\n",
       "      <td>0.667426</td>\n",
       "      <td>0.773926</td>\n",
       "      <td>40.645455</td>\n",
       "      <td>0.465544</td>\n",
       "    </tr>\n",
       "    <tr>\n",
       "      <th>std</th>\n",
       "      <td>0.471225</td>\n",
       "      <td>0.418366</td>\n",
       "      <td>10.638597</td>\n",
       "      <td>0.498907</td>\n",
       "    </tr>\n",
       "  </tbody>\n",
       "</table>\n",
       "</div>"
      ],
      "text/plain": [
       "           lit  primary_resp_fem   age_par1    farmer\n",
       "mean  0.667426          0.773926  40.645455  0.465544\n",
       "std   0.471225          0.418366  10.638597  0.498907"
      ]
     },
     "metadata": {},
     "output_type": "display_data"
    }
   ],
   "source": [
    "# Compute mean and standard deviation for the treated group\n",
    "display(dataset_treated[variables_respondent].describe().loc[['mean', 'std']])\n",
    "\n",
    "# Compute mean and standard deviation for the control group\n",
    "display(dataset_control[variables_respondent].describe().loc[['mean', 'std']])"
   ]
  },
  {
   "cell_type": "markdown",
   "metadata": {},
   "source": [
    "<font size = \"5\">\n",
    "\n"
   ]
  },
  {
   "cell_type": "markdown",
   "metadata": {},
   "source": [
    "<font size = \"5\" >\n",
    "\n",
    "Conduct a formal test of whether the coefficients are similar\n",
    "\n",
    "- We should expect the coefficient on the treatment variable <br>\n",
    "to be non-significant"
   ]
  },
  {
   "cell_type": "code",
   "execution_count": 9,
   "metadata": {},
   "outputs": [
    {
     "name": "stdout",
     "output_type": "stream",
     "text": [
      "\n",
      "============================\n",
      "                      lit   \n",
      "----------------------------\n",
      "Intercept          0.6674***\n",
      "                   (0.0092) \n",
      "treat[T.Treatment] 0.0082   \n",
      "                   (0.0130) \n",
      "R-squared          0.0001   \n",
      "R-squared Adj.     -0.0001  \n",
      "============================\n",
      "Standard errors in\n",
      "parentheses.\n",
      "* p<.1, ** p<.05, ***p<.01\n"
     ]
    }
   ],
   "source": [
    "reg_model = smf.ols(\"lit ~ treat \", dataset)\n",
    "results = reg_model.fit(cov_type= \"HC1\")\n",
    "\n",
    "print(summary_col(results,\n",
    "                  stars = True))"
   ]
  },
  {
   "cell_type": "markdown",
   "metadata": {},
   "source": [
    "<font size = \"5\">\n",
    "\n",
    "Try it yourself!\n",
    "\n",
    "<font size = \"3\">\n",
    "\n",
    "- Obtain summary statistics for the mean and standard deviation for <br>\n",
    "the other sets of baseline variables\n"
   ]
  },
  {
   "cell_type": "code",
   "execution_count": 10,
   "metadata": {},
   "outputs": [],
   "source": [
    "# Write your own code\n",
    "\n",
    "\n"
   ]
  },
  {
   "cell_type": "markdown",
   "metadata": {},
   "source": [
    "<font size = \"5\">\n",
    "\n",
    "Try it yourself!\n",
    "\n",
    "<font size = \"3\">\n",
    "\n",
    "- Write a loop that runs different regressions of baseline covariates <br>\n",
    "on the treatment variable. This can help you automate the process of <br>\n",
    "testing for covariate balance"
   ]
  },
  {
   "cell_type": "code",
   "execution_count": 11,
   "metadata": {},
   "outputs": [],
   "source": [
    "# Write your own code\n",
    "\n",
    "\n"
   ]
  },
  {
   "cell_type": "markdown",
   "metadata": {},
   "source": [
    "# <span style=\"color:darkblue\"> IV. Calculating Average Treatment Effect </span>\n",
    "\n",
    "\n",
    "- Make sure to use robust standard errors"
   ]
  },
  {
   "cell_type": "markdown",
   "metadata": {},
   "source": [
    "<font size = \"5\">\n",
    "\n",
    "Effect of treatment on endline beliefs"
   ]
  },
  {
   "cell_type": "code",
   "execution_count": 12,
   "metadata": {},
   "outputs": [
    {
     "name": "stdout",
     "output_type": "stream",
     "text": [
      "\n",
      "=============================\n",
      "                     u_ave   \n",
      "-----------------------------\n",
      "Intercept          63.5628***\n",
      "                   (0.3435)  \n",
      "treat[T.Treatment] -7.4218***\n",
      "                   (0.4988)  \n",
      "R-squared          0.0406    \n",
      "R-squared Adj.     0.0404    \n",
      "=============================\n",
      "Standard errors in\n",
      "parentheses.\n",
      "* p<.1, ** p<.05, ***p<.01\n"
     ]
    }
   ],
   "source": [
    "reg_model = smf.ols(\"u_ave ~ treat \", dataset)\n",
    "results = reg_model.fit(cov_type= \"HC1\")\n",
    "\n",
    "print(summary_col(results,\n",
    "                  stars = True))"
   ]
  },
  {
   "cell_type": "markdown",
   "metadata": {},
   "source": [
    "<font size = \"5\">\n",
    "\n",
    "Add baseline covariates"
   ]
  },
  {
   "cell_type": "code",
   "execution_count": 13,
   "metadata": {},
   "outputs": [
    {
     "name": "stdout",
     "output_type": "stream",
     "text": [
      "\n",
      "=============================\n",
      "                     u_ave   \n",
      "-----------------------------\n",
      "Intercept          39.6549***\n",
      "                   (0.6801)  \n",
      "treat[T.Treatment] -7.0564***\n",
      "                   (0.4325)  \n",
      "ave                0.5079*** \n",
      "                   (0.0129)  \n",
      "R-squared          0.2725    \n",
      "R-squared Adj.     0.2722    \n",
      "=============================\n",
      "Standard errors in\n",
      "parentheses.\n",
      "* p<.1, ** p<.05, ***p<.01\n"
     ]
    }
   ],
   "source": [
    "reg_model = smf.ols(\"u_ave ~ treat + ave \", dataset)\n",
    "results = reg_model.fit(cov_type= \"HC1\")\n",
    "\n",
    "print(summary_col(results,\n",
    "                  stars = True))"
   ]
  },
  {
   "cell_type": "markdown",
   "metadata": {},
   "source": [
    "<font size = \"5\">\n",
    "\n",
    "Test for heterogeneous effects\n"
   ]
  },
  {
   "cell_type": "code",
   "execution_count": 14,
   "metadata": {},
   "outputs": [
    {
     "name": "stdout",
     "output_type": "stream",
     "text": [
      "\n",
      "==================================\n",
      "                          u_ave   \n",
      "----------------------------------\n",
      "Intercept              49.1885*** \n",
      "                       (0.8840)   \n",
      "treat[T.Treatment]     -25.9979***\n",
      "                       (1.2381)   \n",
      "ave                    0.3054***  \n",
      "                       (0.0177)   \n",
      "treat[T.Treatment]:ave 0.4055***  \n",
      "                       (0.0241)   \n",
      "R-squared              0.3095     \n",
      "R-squared Adj.         0.3091     \n",
      "==================================\n",
      "Standard errors in parentheses.\n",
      "* p<.1, ** p<.05, ***p<.01\n"
     ]
    }
   ],
   "source": [
    "reg_model = smf.ols(\"u_ave ~ treat + ave + treat*ave\", dataset)\n",
    "results = reg_model.fit(cov_type= \"HC1\")\n",
    "\n",
    "print(summary_col(results,\n",
    "                  stars = True))"
   ]
  },
  {
   "cell_type": "markdown",
   "metadata": {},
   "source": [
    "<font size = \"5\">\n",
    "\n",
    "Try it yourself!\n",
    "\n",
    "Test for heterogeneous effects using other baseline covariates!"
   ]
  },
  {
   "cell_type": "code",
   "execution_count": 15,
   "metadata": {},
   "outputs": [],
   "source": [
    "# Write your own code\n",
    "\n",
    "\n",
    "\n",
    "\n"
   ]
  }
 ],
 "metadata": {
  "kernelspec": {
   "display_name": "base",
   "language": "python",
   "name": "python3"
  },
  "language_info": {
   "codemirror_mode": {
    "name": "ipython",
    "version": 3
   },
   "file_extension": ".py",
   "mimetype": "text/x-python",
   "name": "python",
   "nbconvert_exporter": "python",
   "pygments_lexer": "ipython3",
   "version": "3.12.2"
  },
  "orig_nbformat": 4,
  "vscode": {
   "interpreter": {
    "hash": "45fc1f684f6f416f40889115beff3ddf69879b64cf4bfee48cb72a61e9d15d1a"
   }
  }
 },
 "nbformat": 4,
 "nbformat_minor": 2
}
